{
 "cells": [
  {
   "cell_type": "code",
   "execution_count": 18,
   "metadata": {},
   "outputs": [],
   "source": [
    "#add environment variables\n",
    "import os\n",
    "os.environ[\"OPENAI_API_KEY\"] = \"\"\n",
    "os.environ[\"NEO4J_URI\"] = \"bolt://localhost:7687\"\n",
    "os.environ[\"NEO4J_USERNAME\"] = \"neo4j\"\n",
    "os.environ[\"NEO4J_PASSWORD\"] = \"password\""
   ]
  },
  {
   "cell_type": "code",
   "execution_count": null,
   "metadata": {},
   "outputs": [],
   "source": [
    "from langchain_community.graphs import Neo4jGraph\n",
    "\n",
    "graph = Neo4jGraph()\n",
    "\n",
    "#import crime dataset with cypher queries\n",
    "\n",
    "movies_query = \"\"\"\n",
    "LOAD CSV WITH HEADERS FROM \n",
    "'https://raw.githubusercontent.com/ungodlike/LondonCrime/main/LondonCrime.csv' as csv\n",
    "with csv as crimecsv\n",
    "where crimecsv.`Location` is not null\n",
    "merge (p:Place {name: crimecsv.`Location`})\n",
    "with crimecsv, split(crimecsv.`Month`, \"-\") AS yearMonth\n",
    "where yearMonth[0] is not null\n",
    "merge (y:Year {value: toFloat(yearMonth[0])})\n",
    "with crimecsv, split(crimecsv.`Month`, \"-\") AS yearMonth\n",
    "where yearMonth[1] is not null\n",
    "merge (m:Month {value: toFloat(yearMonth[1])})\n",
    "with crimecsv\n",
    "where crimecsv.`Crime type` is not null\n",
    "merge (ctg:Category {name: crimecsv.`Crime type`})\n",
    "with crimecsv\n",
    "where crimecsv.`Latitude` is not null\n",
    "merge (c:Case {ref: case when crimecsv.`Crime ID` is null then '' else crimecsv.`Crime ID` end ,lat: toFloat(crimecsv.`Latitude`), lon: toFloat(crimecsv.`Longitude`), outcome: case when crimecsv.`Last outcome category` is null then 'n/a' else crimecsv.`Last outcome category` end })\n",
    "\n",
    "with crimecsv, split(crimecsv.`Month`, \"-\") AS yearMonth\n",
    "match (xc:Case {ref: case when crimecsv.`Crime ID` is null then '' else crimecsv.`Crime ID` end ,lat: toFloat(crimecsv.`Latitude`), lon: toFloat(crimecsv.`Longitude`), outcome: case when crimecsv.`Last outcome category` is null then 'n/a' else crimecsv.`Last outcome category` end }),\n",
    "(xy:Year {value: toFloat(yearMonth[0])}),\n",
    "(xm:Month {value: toFloat(yearMonth[1])}),\n",
    "(xp:Place {name: crimecsv.`Location`}),\n",
    "(xctg:Category {name: crimecsv.`Crime type`})\n",
    "\n",
    "create (xm)-[:YEAR_OF]->(xy),\n",
    "(xc)-[:HAPPEN_IN]->(xm),\n",
    "(xc)-[:TYPE_OF]->(xctg),\n",
    "(xc)-[:AT]->(xp);\n",
    "\"\"\"\n",
    "\n",
    "graph.query(movies_query)"
   ]
  },
  {
   "cell_type": "code",
   "execution_count": 20,
   "metadata": {},
   "outputs": [
    {
     "name": "stdout",
     "output_type": "stream",
     "text": [
      "Node properties:\n",
      "Place {name: STRING}\n",
      "Year {value: FLOAT}\n",
      "Month {value: FLOAT}\n",
      "Category {name: STRING}\n",
      "Case {outcome: STRING, ref: STRING, lat: FLOAT, lon: FLOAT}\n",
      "Relationship properties:\n",
      "\n",
      "The relationships:\n",
      "(:Month)-[:YEAR_OF]->(:Year)\n",
      "(:Case)-[:TYPE_OF]->(:Category)\n",
      "(:Case)-[:HAPPEN_IN]->(:Month)\n",
      "(:Case)-[:AT]->(:Place)\n"
     ]
    }
   ],
   "source": [
    "graph.refresh_schema() #to refresh schema on changes\n",
    "print(graph.schema)"
   ]
  },
  {
   "cell_type": "code",
   "execution_count": 21,
   "metadata": {},
   "outputs": [],
   "source": [
    "from langchain.chains import GraphCypherQAChain\n",
    "from langchain_openai import ChatOpenAI\n",
    "#choose llm and create graph query chain\n",
    "llm = ChatOpenAI(model=\"gpt-3.5-turbo\", temperature=0)\n",
    "chain = GraphCypherQAChain.from_llm(graph=graph, llm=llm, verbose=True)\n"
   ]
  },
  {
   "cell_type": "code",
   "execution_count": 23,
   "metadata": {},
   "outputs": [
    {
     "name": "stdout",
     "output_type": "stream",
     "text": [
      "\n",
      "\n",
      "\u001b[1m> Entering new GraphCypherQAChain chain...\u001b[0m\n",
      "Generated Cypher:\n",
      "\u001b[32;1m\u001b[1;3mMATCH (:Case {ref: 'ab9a10f63343d679961a09e9c2305fb4a9b871f05f64e1a3368ceb78cab973d5'})-[:TYPE_OF]->(c:Category)\n",
      "RETURN c.name;\u001b[0m\n",
      "Full Context:\n",
      "\u001b[32;1m\u001b[1;3m[{'c.name': 'Violence and sexual offences'}, {'c.name': 'Violence and sexual offences'}]\u001b[0m\n",
      "\n",
      "\u001b[1m> Finished chain.\u001b[0m\n",
      "{'query': 'In what category was case ab9a10f63343d679961a09e9c2305fb4a9b871f05f64e1a3368ceb78cab973d5', 'result': 'The case ab9a10f63343d679961a09e9c2305fb4a9b871f05f64e1a3368ceb78cab973d5 was categorized under Violence and sexual offences.'}\n"
     ]
    }
   ],
   "source": [
    "#obtain query and produce output\n",
    "user_query = input(\"Enter your query: \")\n",
    "response = chain.invoke({\"query\": user_query})\n",
    "print(response)"
   ]
  }
 ],
 "metadata": {
  "kernelspec": {
   "display_name": "env",
   "language": "python",
   "name": "python3"
  },
  "language_info": {
   "codemirror_mode": {
    "name": "ipython",
    "version": 3
   },
   "file_extension": ".py",
   "mimetype": "text/x-python",
   "name": "python",
   "nbconvert_exporter": "python",
   "pygments_lexer": "ipython3",
   "version": "3.9.6"
  }
 },
 "nbformat": 4,
 "nbformat_minor": 2
}
